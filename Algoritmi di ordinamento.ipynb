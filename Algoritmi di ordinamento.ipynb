{
 "cells": [
  {
   "cell_type": "markdown",
   "source": [
    "# Confronto tra insertion-sort e merge-sort\n",
    "*Di Gesare Marco, matricola: 7049271*"
   ],
   "metadata": {
    "collapsed": false
   }
  },
  {
   "cell_type": "markdown",
   "source": [
    "## Introduzione\n",
    "In questo notebook si vuole confrontare l'efficienza dei due algoritmi di ordinamento: insertion-sort e merge-sort.\n",
    "L'obbiettivo è quello di confrontare i tempi di esecuzione dei due algoritmi al variare della dimensione dell'input. In questo modo sarà possibile affrontare un'analisi dei due algoritmi, comprendendo le differenze tra questultimi.\n",
    "Inoltre si vuole confrontare l'efficienza dei due algoritmi al variare della distribuzione dei dati in input. In particolare si vuole confrontare l'efficienza dei due algoritmi al variare del grado di ordinamento dei dati in input."
   ],
   "metadata": {
    "collapsed": false
   }
  },
  {
   "cell_type": "markdown",
   "source": [
    "# Cenni teorici\n",
    "Il **problema dell'ordinamento** è un problema fondamentale nell'ambito dell'informatica e dell'algoritmo. L'obiettivo è organizzare un insieme di elementi in modo specifico, di solito in ordine crescente o decrescente. Formalmente, dato un insieme di *n* elementi (a<sub>0</sub>, a<sub>1</sub>, ..., a<sub>n</sub>), il problema dell'ordinamento richiede di produrre una permutazione (a'<sub>0</sub>, a'<sub>1</sub>, ..., a'<sub>n</sub>) tale che a'<sub>0</sub> <= a'<sub>1</sub> <= ... <= a'<sub>n</sub>.\n",
    "In altre parole, gli elementi devono essere riorganizzati in modo tale che ciascun elemento sia maggiore o uguale al suo predecessore, seguendo un ordine crescente.\n",
    "\n",
    "## Insertion-sort\n",
    "Questo algoritmo è efficiente per ordinare un piccolo numero di dati. L'idea è quella di inserire un elemento alla volta nella posizione corretta. Inizia con un elemento, che è già ordinato, poi, ad ogni passo, un elemento viene preso dall'array in input e inserito nella posizione corretta nell'array ordinato; continuando fino a quando non arriva alla fine dell'array. L'algoritmo è in loco, non richiede spazio aggiuntivo per l'ordinamento. Inoltre è stabile, ovvero elementi con lo stesso valore rimangono nell'ordine in cui sono stati inseriti nell'array ordinato.\n",
    "**Passi dell'algoritmo:**\n",
    "1. Si considera il primo elemento dell'array come ordinato.\n",
    "2. Si prende il secondo elemento e lo si inserisce nella posizione corretta rispetto al primo elemento.\n",
    "3. Si prende il terzo elemento e lo si inserisce nella posizione corretta rispetto ai primi due elementi.\n",
    "4. Si continua questo processo finché tutti gli elementi sono inseriti nella posizione corretta.\n",
    "\n",
    "Il suo **costo computazionale** dipende dall'array che riceve in input:\n",
    "1. Se l'array è già ordinato, l'algoritmo ha un costo lineare, ovvero O(n).\n",
    "2. Se l'array è ordinato in ordine inverso, l'algoritmo ha un costo quadratico, ovvero O(n<sup>2</sup>).\n",
    "3. Se l'array è ordinato in modo casuale, l'algoritmo ha un costo quadratico, ovvero O(n<sup>2</sup>).\n"
   ],
   "metadata": {
    "collapsed": false
   }
  },
  {
   "cell_type": "code",
   "execution_count": 8,
   "outputs": [
    {
     "name": "stdout",
     "output_type": "stream",
     "text": [
      "[1, 2, 3, 4, 5, 6]\n"
     ]
    }
   ],
   "source": [
    "def insertion_sort(array):\n",
    "    for i in range(1, len(array)):\n",
    "        key = array[i]\n",
    "        j = i-1\n",
    "        while j >= 0 and key < array[j]:\n",
    "            array[j+1] = array[j]\n",
    "            j -= 1\n",
    "        array[j+1] = key\n",
    "    return array\n",
    "\n",
    "ex = [5, 2, 4, 6, 1, 3]\n",
    "print(insertion_sort(ex))"
   ],
   "metadata": {
    "collapsed": false,
    "ExecuteTime": {
     "end_time": "2023-11-23T10:24:12.737371500Z",
     "start_time": "2023-11-23T10:24:12.626143900Z"
    }
   }
  },
  {
   "cell_type": "markdown",
   "source": [
    "## Merge-sort\n",
    "\n",
    "L'algoritmo di ordinamento Merge Sort è un algoritmo di ordinamento basato su un approccio *divide et impera*. La sua caratteristica principale è la divisione ricorsiva dell'array in sottoarray più piccoli fino a quando non rimangono più elementi da ordinare. Quindi, i sottoarray ordinati vengono uniti in modo da ottenere un array ordinato.\n",
    "L'array viene diviso a metà e viene chiamata la funzione **merge_sort** per entrambe le metà. Successivamente, le due metà vengono unite utilizzando la funzione **merge**.\n",
    "**Passi dell'algoritmo:**\n",
    "1. Se l'array ha più di un elemento, divide l'array in due parti.\n",
    "2. Chiama la funzione merge_sort per la prima metà.\n",
    "3. Chiama la funzione merge_sort per la seconda metà.\n",
    "4. Unisce le due metà ordinate in modo da ottenere un array ordinato.\n",
    "\n",
    "Il suo **costo computazionale** è sempre O(n log n), indipendentemente dall'array che riceve in input. In particolare l'algortimo Merge ha un costo O(n), che viene moltiplicato per l'altezza dell'albero di ricorsione, ovvero log n.\n",
    "Infine, si tratta di un algoritmo stabile, ovvero elementi con lo stesso valore rimangono nell'ordine in cui sono stati inseriti nell'array ordinato."
   ],
   "metadata": {
    "collapsed": false
   }
  },
  {
   "cell_type": "code",
   "execution_count": 9,
   "outputs": [
    {
     "name": "stdout",
     "output_type": "stream",
     "text": [
      "[1, 2, 3, 4, 5, 6]\n"
     ]
    }
   ],
   "source": [
    "def merge_sort(array):\n",
    "    if len(array) > 1:\n",
    "        mid = len(array)//2\n",
    "        left = array[:mid]\n",
    "        right = array[mid:]\n",
    "        merge_sort(left)\n",
    "        merge_sort(right)\n",
    "        merge(array, left, right)\n",
    "    return array\n",
    "\n",
    "def merge(array, left, right):\n",
    "    i = j = k = 0\n",
    "    while i < len(left) and j < len(right):\n",
    "        if left[i] <= right[j]:\n",
    "            array[k] = left[i]\n",
    "            i += 1\n",
    "        else:\n",
    "            array[k] = right[j]\n",
    "            j += 1\n",
    "        k += 1\n",
    "    while i < len(left):\n",
    "        array[k] = left[i]\n",
    "        i += 1\n",
    "        k += 1\n",
    "    while j < len(right):\n",
    "        array[k] = right[j]\n",
    "        j += 1\n",
    "        k += 1\n",
    "\n",
    "ex = [5, 2, 4, 6, 1, 3]\n",
    "print(merge_sort(ex))"
   ],
   "metadata": {
    "collapsed": false,
    "ExecuteTime": {
     "end_time": "2023-11-23T10:24:12.784689200Z",
     "start_time": "2023-11-23T10:24:12.658301800Z"
    }
   }
  },
  {
   "cell_type": "code",
   "execution_count": 9,
   "outputs": [],
   "source": [],
   "metadata": {
    "collapsed": false,
    "ExecuteTime": {
     "end_time": "2023-11-23T10:24:12.800315100Z",
     "start_time": "2023-11-23T10:24:12.689636500Z"
    }
   }
  }
 ],
 "metadata": {
  "kernelspec": {
   "display_name": "Python 3",
   "language": "python",
   "name": "python3"
  },
  "language_info": {
   "codemirror_mode": {
    "name": "ipython",
    "version": 2
   },
   "file_extension": ".py",
   "mimetype": "text/x-python",
   "name": "python",
   "nbconvert_exporter": "python",
   "pygments_lexer": "ipython2",
   "version": "2.7.6"
  }
 },
 "nbformat": 4,
 "nbformat_minor": 0
}
